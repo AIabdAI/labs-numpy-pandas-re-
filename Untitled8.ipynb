{
 "cells": [
  {
   "cell_type": "code",
   "execution_count": 199,
   "id": "9b43afd3",
   "metadata": {},
   "outputs": [],
   "source": [
    "import numpy as np\n",
    "import re"
   ]
  },
  {
   "cell_type": "code",
   "execution_count": 200,
   "id": "882d09b4",
   "metadata": {},
   "outputs": [],
   "source": [
    "text=\"Hi there my age is 22 years\\nHello My Name is Hashem and im 15 years old\"\n",
    "find=np.array(re.findall(\"\\d\\d\",text),float)"
   ]
  },
  {
   "cell_type": "code",
   "execution_count": 201,
   "id": "d5bce6aa",
   "metadata": {},
   "outputs": [],
   "source": [
    "sum1=np.sum(find,None,float)"
   ]
  },
  {
   "cell_type": "code",
   "execution_count": 202,
   "id": "7747a179",
   "metadata": {},
   "outputs": [
    {
     "name": "stdout",
     "output_type": "stream",
     "text": [
      "37.0\n"
     ]
    }
   ],
   "source": [
    "print(sum1)"
   ]
  },
  {
   "cell_type": "code",
   "execution_count": 254,
   "id": "2235563a",
   "metadata": {},
   "outputs": [],
   "source": [
    "text2=\"From : hashem1999saqqa@gmail.com \\nFrom : ahmed-emad2003@whatever.net\"\n",
    "\n",
    "find2=re.findall(\"From\\s:\\s\\w*@\\w*.\\w*\",text2)"
   ]
  },
  {
   "cell_type": "code",
   "execution_count": 255,
   "id": "05f82bd1",
   "metadata": {},
   "outputs": [
    {
     "data": {
      "text/plain": [
       "['hashem1999saqqa@gmail.com']"
      ]
     },
     "execution_count": 255,
     "metadata": {},
     "output_type": "execute_result"
    }
   ],
   "source": [
    "res1=[]\n",
    "for result in find2:\n",
    "    res1.append(re.sub(\"From : \",\"\",result))\n",
    "res1"
   ]
  },
  {
   "cell_type": "code",
   "execution_count": 257,
   "id": "cb9c85ec",
   "metadata": {},
   "outputs": [],
   "source": [
    "text3=\"today is the sunday 12-2-2022 \\nand yesterday was 11-2-2022\"\n",
    "find3=re.findall(\"\\d{1}-\\d{1}-\\d{3}\",text3)"
   ]
  },
  {
   "cell_type": "code",
   "execution_count": 258,
   "id": "dc31d453",
   "metadata": {},
   "outputs": [
    {
     "data": {
      "text/plain": [
       "['2-2-202', '1-2-202']"
      ]
     },
     "execution_count": 258,
     "metadata": {},
     "output_type": "execute_result"
    }
   ],
   "source": [
    "find3"
   ]
  },
  {
   "cell_type": "code",
   "execution_count": 259,
   "id": "e3c5141e",
   "metadata": {},
   "outputs": [],
   "source": [
    "text4=\"i live in Gaza \\nand my friend parents live in Jordan\"\n",
    "find4=re.findall(\"[A-Z]\\w*\",text4)"
   ]
  },
  {
   "cell_type": "code",
   "execution_count": 260,
   "id": "2048892f",
   "metadata": {},
   "outputs": [
    {
     "data": {
      "text/plain": [
       "['Gaza', 'Jordan']"
      ]
     },
     "execution_count": 260,
     "metadata": {},
     "output_type": "execute_result"
    }
   ],
   "source": [
    "find4"
   ]
  },
  {
   "cell_type": "code",
   "execution_count": 261,
   "id": "14d8322f",
   "metadata": {},
   "outputs": [],
   "source": [
    "#or\n",
    "su=re.sub(\"in \",\"&&\",text4)\n",
    "find4_2=re.findall(\"&&[A-Z]\\w*\",su)"
   ]
  },
  {
   "cell_type": "code",
   "execution_count": 262,
   "id": "e006be33",
   "metadata": {},
   "outputs": [
    {
     "data": {
      "text/plain": [
       "['&&Gaza', '&&Jordan']"
      ]
     },
     "execution_count": 262,
     "metadata": {},
     "output_type": "execute_result"
    }
   ],
   "source": [
    "find4_2"
   ]
  },
  {
   "cell_type": "code",
   "execution_count": 263,
   "id": "a15b2233",
   "metadata": {},
   "outputs": [],
   "source": [
    "res2=[]\n",
    "for result in find4_2:\n",
    "    res2.append(re.sub(\"&&\",\"\",result))"
   ]
  },
  {
   "cell_type": "code",
   "execution_count": 264,
   "id": "671a8645",
   "metadata": {},
   "outputs": [
    {
     "data": {
      "text/plain": [
       "['Gaza', 'Jordan']"
      ]
     },
     "execution_count": 264,
     "metadata": {},
     "output_type": "execute_result"
    }
   ],
   "source": [
    "res2"
   ]
  },
  {
   "cell_type": "code",
   "execution_count": 278,
   "id": "e9cd9772",
   "metadata": {},
   "outputs": [
    {
     "data": {
      "text/plain": [
       "['Ahmed', 'Hashem', 'emad']"
      ]
     },
     "execution_count": 278,
     "metadata": {},
     "output_type": "execute_result"
    }
   ],
   "source": [
    "text5=\"user: Ahmed ALrayyes \\nSalary: 1000$ \\nAge: 26 \\nuser: Hashem Alsaqqa \\nSalary: 1500$ \\nAge: 22\\nuser: emad morad \\nSalary: 2500$ \\nAge: 37\"\n",
    "name=re.findall(\"user:\\s[A-Za-z]*\",text5)\n",
    "res3=[]\n",
    "for result in name:\n",
    "    res3.append(re.sub(\"user: \",\"\",result))\n",
    "res3"
   ]
  },
  {
   "cell_type": "code",
   "execution_count": 289,
   "id": "fd25e40a",
   "metadata": {},
   "outputs": [
    {
     "data": {
      "text/plain": [
       "['ALrayyes', 'Alsaqqa', 'morad']"
      ]
     },
     "execution_count": 289,
     "metadata": {},
     "output_type": "execute_result"
    }
   ],
   "source": [
    "family=re.findall(\"user:\\s[A-Za-z]*\\s[A-za-z]*\",text5)\n",
    "res4=[]\n",
    "for result in family:\n",
    "    res4.append(re.sub(\"user:\\s[A-za-z]*\\s\",\"\",result))\n",
    "res4"
   ]
  },
  {
   "cell_type": "code",
   "execution_count": 285,
   "id": "fe5797c9",
   "metadata": {},
   "outputs": [
    {
     "data": {
      "text/plain": [
       "['user: Ahmed ALrayyes', 'user: Hashem Alsaqqa', 'user: emad morad']"
      ]
     },
     "execution_count": 285,
     "metadata": {},
     "output_type": "execute_result"
    }
   ],
   "source": []
  },
  {
   "cell_type": "code",
   "execution_count": null,
   "id": "0a7dba6b",
   "metadata": {},
   "outputs": [],
   "source": []
  }
 ],
 "metadata": {
  "kernelspec": {
   "display_name": "Python 3 (ipykernel)",
   "language": "python",
   "name": "python3"
  },
  "language_info": {
   "codemirror_mode": {
    "name": "ipython",
    "version": 3
   },
   "file_extension": ".py",
   "mimetype": "text/x-python",
   "name": "python",
   "nbconvert_exporter": "python",
   "pygments_lexer": "ipython3",
   "version": "3.9.7"
  }
 },
 "nbformat": 4,
 "nbformat_minor": 5
}
